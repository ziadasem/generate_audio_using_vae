{
 "cells": [
  {
   "cell_type": "code",
   "execution_count": 1,
   "metadata": {
    "id": "jwBQ8IQX0ES4"
   },
   "outputs": [],
   "source": [
    "import os\n",
    "import numpy as np\n",
    "import soundfile as sf\n",
    "import pickle \n",
    "import IPython.display as ipd\n"
   ]
  },
  {
   "cell_type": "code",
   "execution_count": 2,
   "metadata": {
    "id": "tts2WCEw1oRK",
    "scrolled": true
   },
   "outputs": [
    {
     "name": "stderr",
     "output_type": "stream",
     "text": [
      "d:\\python 3.6\\lib\\site-packages\\tensorflow\\python\\framework\\dtypes.py:516: FutureWarning: Passing (type, 1) or '1type' as a synonym of type is deprecated; in a future version of numpy, it will be understood as (type, (1,)) / '(1,)type'.\n",
      "  _np_qint8 = np.dtype([(\"qint8\", np.int8, 1)])\n",
      "d:\\python 3.6\\lib\\site-packages\\tensorflow\\python\\framework\\dtypes.py:517: FutureWarning: Passing (type, 1) or '1type' as a synonym of type is deprecated; in a future version of numpy, it will be understood as (type, (1,)) / '(1,)type'.\n",
      "  _np_quint8 = np.dtype([(\"quint8\", np.uint8, 1)])\n",
      "d:\\python 3.6\\lib\\site-packages\\tensorflow\\python\\framework\\dtypes.py:518: FutureWarning: Passing (type, 1) or '1type' as a synonym of type is deprecated; in a future version of numpy, it will be understood as (type, (1,)) / '(1,)type'.\n",
      "  _np_qint16 = np.dtype([(\"qint16\", np.int16, 1)])\n",
      "d:\\python 3.6\\lib\\site-packages\\tensorflow\\python\\framework\\dtypes.py:519: FutureWarning: Passing (type, 1) or '1type' as a synonym of type is deprecated; in a future version of numpy, it will be understood as (type, (1,)) / '(1,)type'.\n",
      "  _np_quint16 = np.dtype([(\"quint16\", np.uint16, 1)])\n",
      "d:\\python 3.6\\lib\\site-packages\\tensorflow\\python\\framework\\dtypes.py:520: FutureWarning: Passing (type, 1) or '1type' as a synonym of type is deprecated; in a future version of numpy, it will be understood as (type, (1,)) / '(1,)type'.\n",
      "  _np_qint32 = np.dtype([(\"qint32\", np.int32, 1)])\n",
      "d:\\python 3.6\\lib\\site-packages\\tensorflow\\python\\framework\\dtypes.py:525: FutureWarning: Passing (type, 1) or '1type' as a synonym of type is deprecated; in a future version of numpy, it will be understood as (type, (1,)) / '(1,)type'.\n",
      "  np_resource = np.dtype([(\"resource\", np.ubyte, 1)])\n",
      "d:\\python 3.6\\lib\\site-packages\\tensorboard\\compat\\tensorflow_stub\\dtypes.py:541: FutureWarning: Passing (type, 1) or '1type' as a synonym of type is deprecated; in a future version of numpy, it will be understood as (type, (1,)) / '(1,)type'.\n",
      "  _np_qint8 = np.dtype([(\"qint8\", np.int8, 1)])\n",
      "d:\\python 3.6\\lib\\site-packages\\tensorboard\\compat\\tensorflow_stub\\dtypes.py:542: FutureWarning: Passing (type, 1) or '1type' as a synonym of type is deprecated; in a future version of numpy, it will be understood as (type, (1,)) / '(1,)type'.\n",
      "  _np_quint8 = np.dtype([(\"quint8\", np.uint8, 1)])\n",
      "d:\\python 3.6\\lib\\site-packages\\tensorboard\\compat\\tensorflow_stub\\dtypes.py:543: FutureWarning: Passing (type, 1) or '1type' as a synonym of type is deprecated; in a future version of numpy, it will be understood as (type, (1,)) / '(1,)type'.\n",
      "  _np_qint16 = np.dtype([(\"qint16\", np.int16, 1)])\n",
      "d:\\python 3.6\\lib\\site-packages\\tensorboard\\compat\\tensorflow_stub\\dtypes.py:544: FutureWarning: Passing (type, 1) or '1type' as a synonym of type is deprecated; in a future version of numpy, it will be understood as (type, (1,)) / '(1,)type'.\n",
      "  _np_quint16 = np.dtype([(\"quint16\", np.uint16, 1)])\n",
      "d:\\python 3.6\\lib\\site-packages\\tensorboard\\compat\\tensorflow_stub\\dtypes.py:545: FutureWarning: Passing (type, 1) or '1type' as a synonym of type is deprecated; in a future version of numpy, it will be understood as (type, (1,)) / '(1,)type'.\n",
      "  _np_qint32 = np.dtype([(\"qint32\", np.int32, 1)])\n",
      "d:\\python 3.6\\lib\\site-packages\\tensorboard\\compat\\tensorflow_stub\\dtypes.py:550: FutureWarning: Passing (type, 1) or '1type' as a synonym of type is deprecated; in a future version of numpy, it will be understood as (type, (1,)) / '(1,)type'.\n",
      "  np_resource = np.dtype([(\"resource\", np.ubyte, 1)])\n"
     ]
    }
   ],
   "source": [
    "from vae_class import VAE\n",
    "from sound_generator_class import SoundGenerator"
   ]
  },
  {
   "cell_type": "code",
   "execution_count": 3,
   "metadata": {
    "id": "j8vxGXx_0c_Z"
   },
   "outputs": [],
   "source": [
    "HOP_LENGTH = 256\n",
    "SAVE_DIR_ORIGINAL = \"samples\\\\original\\\\\"\n",
    "SAVE_DIR_GENERATED = \"samples\\\\generated\\\\\"\n",
    "MIN_MAX_VALUES_PATH = \"min_max_values.pkl\"\n",
    "SPECTROGRAMS_PATH = \"./spectrograms\""
   ]
  },
  {
   "cell_type": "code",
   "execution_count": 4,
   "metadata": {
    "id": "K0btAJHx0qvN"
   },
   "outputs": [],
   "source": [
    "def select_spectrograms(spectrograms,\n",
    "                        file_paths,\n",
    "                        min_max_values,\n",
    "                        num_spectrograms=2):\n",
    "    sampled_indexes = np.random.choice(range(len(spectrograms)), num_spectrograms)\n",
    "    sampled_spectrogrmas = spectrograms[sampled_indexes]\n",
    "    file_paths = [file_paths[index] for index in sampled_indexes]\n",
    "    sampled_min_max_values = [min_max_values[file_path] for file_path in\n",
    "                           file_paths]\n",
    "\n",
    "    return sampled_spectrogrmas, sampled_min_max_values\n",
    "\n",
    "\n",
    "def save_signals(signals, save_dir, sample_rate=22050):\n",
    "    for i, signal in enumerate(signals):\n",
    "        save_path = os.path.join(save_dir, str(i) + \".wav\")\n",
    "        print(signal.shape)\n",
    "        sf.write(save_path, signal, sample_rate)\n",
    "\n",
    "        \n",
    "def load_fsdd(spectrograms_path):\n",
    "    x_train = []\n",
    "    file_paths = []\n",
    "    for root, _, file_names in os.walk(spectrograms_path):\n",
    "        for file_name in file_names:\n",
    "            file_path = root + \"/\" + file_name\n",
    "            spectrogram = np.load(file_path) # (n_bins, n_frames, 1)\n",
    "            x_train.append(spectrogram)\n",
    "            file_paths.append(file_path)\n",
    "    x_train = np.array(x_train)\n",
    "    x_train = x_train[..., np.newaxis] # -> (3000, 256, 64, 1)\n",
    "    return x_train, file_paths\n",
    "        \n",
    "\n"
   ]
  },
  {
   "cell_type": "markdown",
   "metadata": {
    "id": "N2VKh8-H2cAO"
   },
   "source": [
    "## Generating Sounds\n",
    "\n",
    "\n",
    "1.   load the VAE model\n",
    "2.   load all spectrograms and their corresponding min_max values\n",
    "3.   sample from all spectrograms\n",
    "4.   convert them back to audio -using function defined in SoundGenerator\n",
    "5.   for comparsion between generated and original spectrograms we will load both of them\n",
    "\n"
   ]
  },
  {
   "cell_type": "code",
   "execution_count": 9,
   "metadata": {
    "colab": {
     "base_uri": "https://localhost:8080/",
     "height": 356
    },
    "id": "uhCx3B3-3KyR",
    "outputId": "047cbd30-c95e-424a-ecb4-cbe21e21a864",
    "scrolled": true
   },
   "outputs": [
    {
     "name": "stdout",
     "output_type": "stream",
     "text": [
      "(16128,)\n",
      "(16128,)\n",
      "(16128,)\n",
      "(16128,)\n",
      "(16128,)\n",
      "(16128,)\n",
      "(16128,)\n",
      "(16128,)\n",
      "(16128,)\n",
      "(16128,)\n"
     ]
    }
   ],
   "source": [
    "if __name__ == \"__main__\" : \n",
    "  #1. load samples and their min max then sample random samples and generate \n",
    "  vae = VAE.load(\"sound_gen1\") #load model\n",
    "  sound_generator = SoundGenerator(vae, HOP_LENGTH)\n",
    "\n",
    "  #2. load min_max_values and all spectograms\n",
    "  with open(MIN_MAX_VALUES_PATH, \"rb\") as f:\n",
    "     min_max_values = pickle.load(f)\n",
    "  \n",
    "  specs, file_paths = load_fsdd(SPECTROGRAMS_PATH)\n",
    "  \n",
    "  #3. sample from traning set\n",
    "  sampled_spec, sampled_min_max_values = select_spectrograms(specs, file_paths,min_max_values , 5 )\n",
    "\n",
    "  #4. generate audio from sampled_spectrograms\n",
    "  signals, _ = sound_generator.generate(sampled_spec, sampled_min_max_values)\n",
    "\n",
    "  #5.for seek of comparsion we will load original signals\n",
    "  original_signals = sound_generator.convert_spectograms_to_audio(\n",
    "        sampled_spec, sampled_min_max_values)\n",
    "  \n",
    "  save_signals(signals, SAVE_DIR_GENERATED)\n",
    "  save_signals(original_signals, SAVE_DIR_ORIGINAL)\n"
   ]
  }
 ],
 "metadata": {
  "colab": {
   "provenance": []
  },
  "kernelspec": {
   "display_name": "Python 3",
   "language": "python",
   "name": "python3"
  },
  "language_info": {
   "codemirror_mode": {
    "name": "ipython",
    "version": 3
   },
   "file_extension": ".py",
   "mimetype": "text/x-python",
   "name": "python",
   "nbconvert_exporter": "python",
   "pygments_lexer": "ipython3",
   "version": "3.6.5"
  }
 },
 "nbformat": 4,
 "nbformat_minor": 1
}

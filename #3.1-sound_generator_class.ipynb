{
 "cells": [
  {
   "cell_type": "markdown",
   "metadata": {
    "id": "W3GOK5fpswjn"
   },
   "source": [
    "# Building Sound Generation class\n",
    "\n",
    "the VAE was tranined on spectograms not raw audio so our task here is to reconstruct the audio from spectograms using inverse short time fourirer transform (ISTFT) using Griffin-lim method"
   ]
  },
  {
   "cell_type": "code",
   "execution_count": 1,
   "metadata": {
    "colab": {
     "base_uri": "https://localhost:8080/"
    },
    "id": "BlLpH9Y1tied",
    "outputId": "7e419c3a-40c7-4d2b-af2f-1127477fe93c"
   },
   "outputs": [
    {
     "name": "stderr",
     "output_type": "stream",
     "text": [
      "d:\\python 3.6\\lib\\site-packages\\tensorflow\\python\\framework\\dtypes.py:516: FutureWarning: Passing (type, 1) or '1type' as a synonym of type is deprecated; in a future version of numpy, it will be understood as (type, (1,)) / '(1,)type'.\n",
      "  _np_qint8 = np.dtype([(\"qint8\", np.int8, 1)])\n",
      "d:\\python 3.6\\lib\\site-packages\\tensorflow\\python\\framework\\dtypes.py:517: FutureWarning: Passing (type, 1) or '1type' as a synonym of type is deprecated; in a future version of numpy, it will be understood as (type, (1,)) / '(1,)type'.\n",
      "  _np_quint8 = np.dtype([(\"quint8\", np.uint8, 1)])\n",
      "d:\\python 3.6\\lib\\site-packages\\tensorflow\\python\\framework\\dtypes.py:518: FutureWarning: Passing (type, 1) or '1type' as a synonym of type is deprecated; in a future version of numpy, it will be understood as (type, (1,)) / '(1,)type'.\n",
      "  _np_qint16 = np.dtype([(\"qint16\", np.int16, 1)])\n",
      "d:\\python 3.6\\lib\\site-packages\\tensorflow\\python\\framework\\dtypes.py:519: FutureWarning: Passing (type, 1) or '1type' as a synonym of type is deprecated; in a future version of numpy, it will be understood as (type, (1,)) / '(1,)type'.\n",
      "  _np_quint16 = np.dtype([(\"quint16\", np.uint16, 1)])\n",
      "d:\\python 3.6\\lib\\site-packages\\tensorflow\\python\\framework\\dtypes.py:520: FutureWarning: Passing (type, 1) or '1type' as a synonym of type is deprecated; in a future version of numpy, it will be understood as (type, (1,)) / '(1,)type'.\n",
      "  _np_qint32 = np.dtype([(\"qint32\", np.int32, 1)])\n",
      "d:\\python 3.6\\lib\\site-packages\\tensorflow\\python\\framework\\dtypes.py:525: FutureWarning: Passing (type, 1) or '1type' as a synonym of type is deprecated; in a future version of numpy, it will be understood as (type, (1,)) / '(1,)type'.\n",
      "  np_resource = np.dtype([(\"resource\", np.ubyte, 1)])\n",
      "d:\\python 3.6\\lib\\importlib\\_bootstrap.py:219: RuntimeWarning: numpy.ufunc size changed, may indicate binary incompatibility. Expected 192 from C header, got 216 from PyObject\n",
      "  return f(*args, **kwds)\n",
      "d:\\python 3.6\\lib\\importlib\\_bootstrap.py:219: RuntimeWarning: numpy.ufunc size changed, may indicate binary incompatibility. Expected 192 from C header, got 216 from PyObject\n",
      "  return f(*args, **kwds)\n",
      "d:\\python 3.6\\lib\\site-packages\\tensorboard\\compat\\tensorflow_stub\\dtypes.py:541: FutureWarning: Passing (type, 1) or '1type' as a synonym of type is deprecated; in a future version of numpy, it will be understood as (type, (1,)) / '(1,)type'.\n",
      "  _np_qint8 = np.dtype([(\"qint8\", np.int8, 1)])\n",
      "d:\\python 3.6\\lib\\site-packages\\tensorboard\\compat\\tensorflow_stub\\dtypes.py:542: FutureWarning: Passing (type, 1) or '1type' as a synonym of type is deprecated; in a future version of numpy, it will be understood as (type, (1,)) / '(1,)type'.\n",
      "  _np_quint8 = np.dtype([(\"quint8\", np.uint8, 1)])\n",
      "d:\\python 3.6\\lib\\site-packages\\tensorboard\\compat\\tensorflow_stub\\dtypes.py:543: FutureWarning: Passing (type, 1) or '1type' as a synonym of type is deprecated; in a future version of numpy, it will be understood as (type, (1,)) / '(1,)type'.\n",
      "  _np_qint16 = np.dtype([(\"qint16\", np.int16, 1)])\n",
      "d:\\python 3.6\\lib\\site-packages\\tensorboard\\compat\\tensorflow_stub\\dtypes.py:544: FutureWarning: Passing (type, 1) or '1type' as a synonym of type is deprecated; in a future version of numpy, it will be understood as (type, (1,)) / '(1,)type'.\n",
      "  _np_quint16 = np.dtype([(\"quint16\", np.uint16, 1)])\n",
      "d:\\python 3.6\\lib\\site-packages\\tensorboard\\compat\\tensorflow_stub\\dtypes.py:545: FutureWarning: Passing (type, 1) or '1type' as a synonym of type is deprecated; in a future version of numpy, it will be understood as (type, (1,)) / '(1,)type'.\n",
      "  _np_qint32 = np.dtype([(\"qint32\", np.int32, 1)])\n",
      "d:\\python 3.6\\lib\\site-packages\\tensorboard\\compat\\tensorflow_stub\\dtypes.py:550: FutureWarning: Passing (type, 1) or '1type' as a synonym of type is deprecated; in a future version of numpy, it will be understood as (type, (1,)) / '(1,)type'.\n",
      "  np_resource = np.dtype([(\"resource\", np.ubyte, 1)])\n"
     ]
    }
   ],
   "source": [
    "from vae_class import VAE\n",
    "from preprocessing_model import MinMaxNormalizer\n",
    "import librosa"
   ]
  },
  {
   "cell_type": "markdown",
   "metadata": {
    "id": "LyO8aA0vtI3a"
   },
   "source": [
    "## sound generator class\n",
    "responasible for genearting audios from spectrogram\n",
    "\n",
    "### Reconstruction the audio\n",
    "\n",
    "\n",
    "1.   Reshaping the signal\n",
    "2.   DeNormalize the signals; by using the saved values of min, max for every spectrogram\n",
    "3.  convert the signal from log scale to linear scale\n",
    "4.  apply ISTFT to convert signal from spectrogram to audio in time domain\n",
    "5.  append the reconstructed signal to the list\n",
    "\n"
   ]
  },
  {
   "cell_type": "code",
   "execution_count": 1,
   "metadata": {
    "id": "UkDr2jMAr6h7"
   },
   "outputs": [],
   "source": [
    "class SoundGenerator:\n",
    "  def __init__(self, vae, hop_length):\n",
    "    self.vae = vae\n",
    "    self.hop_length = hop_length\n",
    "    self._min_max_normalizer = MinMaxNormalizer(0,1)\n",
    "  \n",
    "  def generate(self, spectrograms, min_max_values):\n",
    "    #reconstruct images/spects after being encoded\n",
    "    generated_spectograms, latent_representations = self.vae.reconstruct(spectrograms)\n",
    "    signals= self.convert_spectograms_to_audio(generated_spectograms, min_max_values)\n",
    "    return signals, latent_representations\n",
    "  \n",
    "  def convert_spectograms_to_audio(self, spectrograms,min_max_values):\n",
    "    signals = []\n",
    "    for spectrogram, min_max_val in zip( spectrograms,min_max_values):\n",
    "      #1 reshaping; removing the dummy third dim of input signals, (the channel size)\n",
    "      log_spectrogram = spectrogram[:, : , 0]\n",
    "      #2 applying deNorm\n",
    "      denorm_log_spec = self._min_max_normalizer.denormlize(log_spectrogram, min_max_val[\"min\"], min_max_val[\"max\"])\n",
    "      #3 linearize the spectrogram\n",
    "      spec = librosa.db_to_amplitude(denorm_log_spec)\n",
    "      #4 apply STFT\n",
    "      signal = librosa.istft(spec, hop_length= self.hop_length)\n",
    "      #5 append\n",
    "      signals.append(signal)\n",
    "    return signals"
   ]
  }
 ],
 "metadata": {
  "colab": {
   "provenance": []
  },
  "kernelspec": {
   "display_name": "Python 3",
   "language": "python",
   "name": "python3"
  },
  "language_info": {
   "codemirror_mode": {
    "name": "ipython",
    "version": 3
   },
   "file_extension": ".py",
   "mimetype": "text/x-python",
   "name": "python",
   "nbconvert_exporter": "python",
   "pygments_lexer": "ipython3",
   "version": "3.6.5"
  }
 },
 "nbformat": 4,
 "nbformat_minor": 1
}
